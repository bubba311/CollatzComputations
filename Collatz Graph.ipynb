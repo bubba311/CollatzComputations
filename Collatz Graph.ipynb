{
 "cells": [
  {
   "cell_type": "code",
   "execution_count": 1,
   "metadata": {},
   "outputs": [],
   "source": [
    "import math\n",
    "import time\n",
    "import quicksort"
   ]
  },
  {
   "cell_type": "code",
   "execution_count": 2,
   "metadata": {},
   "outputs": [],
   "source": [
    "# node for collatz graph\n",
    "class Tree(object):\n",
    "    def __init__(self, number, left=None, right=None):\n",
    "        self.number = number\n",
    "        self.left  = left\n",
    "        self.right = right\n",
    "\n",
    "    def __str__(self):\n",
    "        return str(self.number)"
   ]
  },
  {
   "cell_type": "code",
   "execution_count": 7,
   "metadata": {},
   "outputs": [],
   "source": [
    "# array sorting\n",
    "def sort(arr):\n",
    "    quicksort.quicksort(arr, 0, len(arr)-1)"
   ]
  },
  {
   "cell_type": "code",
   "execution_count": 34,
   "metadata": {},
   "outputs": [],
   "source": [
    "# computes children of node on the collatz graph\n",
    "def compute_collatz_children(leaf):\n",
    "    leaf.left = Tree(2*leaf.number) # trivial connection is always left\n",
    "    children = [leaf.left] # add to new leaf for next iteration\n",
    "            \n",
    "    if leaf.number % 2 == 0 and (leaf.number-1) % 3 == 0: # interesting connection\n",
    "        leaf.right = Tree((leaf.number-1)/3)\n",
    "        children = children + [leaf.right] # add to new leaves for next iteration\n",
    "        return children\n",
    "    \n",
    "    return children            \n",
    "\n",
    "# create the collatz graph of depth \"depth\" iteratively\n",
    "def create_collatz_graph(depth):    \n",
    "    root = Tree(16) # begin graph at 16 for convienence\n",
    "    leaves = [root] # array of leaves\n",
    "    \n",
    "    start = time.time() # keep track of run time\n",
    "    total_nodes = 1 # keep track of total number of nodes added\n",
    "    \n",
    "    for i in range(depth):\n",
    "        newleaves = [] # to store newly created nodes\n",
    "        \n",
    "        for leaf in leaves:\n",
    "            \n",
    "            children = compute_collatz_children(leaf) \n",
    "            newleaves += children # Add 1-2 children of leaf to graph\n",
    "            total_nodes += len(children) # Add to node count\n",
    "                \n",
    "        leaves = newleaves\n",
    "    \n",
    "    print(\"Computed tree of \"+str(total_nodes)+\" numbers in \"+str(round(time.time()-start,4))+\" seconds.\")\n",
    "    return root, leaves\n",
    "\n",
    "# recursively print graph\n",
    "def print_collatz_graph(node, binary=None):\n",
    "        if binary:\n",
    "            print(str(bin(node.number))[2:])\n",
    "            if node.left:\n",
    "                print_collatz_graph(node.left, binary=True)\n",
    "            if node.right:\n",
    "                print_collatz_graph(node.right, binary=True)\n",
    "        else:\n",
    "            print(str(node.number)[2:])\n",
    "            if node.left:\n",
    "                print_collatz_graph(node.left)\n",
    "            if node.right:\n",
    "                print_collatz_graph(node.right)\n",
    "        return\n",
    "\n",
    "# add num_layers to existing collatz graph\n",
    "def add_layers(leaves, num_layers):\n",
    "    start = time.time() # keep track of run time\n",
    "    total_nodes = 0 # keep track of total number of nodes added\n",
    "    \n",
    "    for i in range(num_layers):\n",
    "        newleaves = [] # to store newly created nodes\n",
    "        \n",
    "        for leaf in leaves:\n",
    "            \n",
    "            children = compute_collatz_children(leaf) \n",
    "            newleaves += children # add 1-2 children of leaf to graph\n",
    "            total_nodes += len(children) # add to node count\n",
    "                \n",
    "        leaves = newleaves\n",
    "        \n",
    "    print(\"Added \"+str(total_nodes)+\" numbers to tree in \"+str(round(time.time()-start,4))+\" seconds.\")\n",
    "    return leaves"
   ]
  },
  {
   "cell_type": "code",
   "execution_count": 39,
   "metadata": {},
   "outputs": [],
   "source": [
    "# write leaves to a file\n",
    "def write_leaves(leaves, depth):\n",
    "    f = open(\"graph_collatz_data/\"+str(depth)+\"_steps_numbers_\"+\"data.txt\", \"w+\") # create and open file\n",
    "    \n",
    "    for leaf in leaves: # write leaves to file\n",
    "        f.write(str(leaf)+\"\\n\")\n",
    "    \n",
    "    f.close() # close file\n",
    "\n",
    "# create files of numbers which take the same number of steps to terminate the collatz process\n",
    "def leaves_analysis(start_depth, end_depth):\n",
    "    \n",
    "    start_depth -= 4\n",
    "    end_depth -= 4 \n",
    "    \n",
    "    root, leaves = create_collatz_graph(start_depth)\n",
    "    leaves_numbers = []\n",
    "    \n",
    "    for leaf in leaves:\n",
    "        leaves_numbers += [leaf.number]\n",
    "    \n",
    "    sort(leaves_numbers)\n",
    "    write_leaves(leaves_numbers, start_depth+4)\n",
    "    \n",
    "    for i in range(start_depth+1, end_depth+1):\n",
    "        leaves = add_layers(leaves, 1)\n",
    "        leaves_numbers = []\n",
    "        \n",
    "        for leaf in leaves:\n",
    "            leaves_numbers += [leaf.number]\n",
    "    \n",
    "        sort(leaves_numbers)\n",
    "        write_leaves(leaves_numbers, i+4)\n",
    "        "
   ]
  },
  {
   "cell_type": "code",
   "execution_count": 43,
   "metadata": {},
   "outputs": [
    {
     "name": "stdout",
     "output_type": "stream",
     "text": [
      "Computed tree of 338 numbers in 0.019 seconds.\n",
      "Added 91 numbers to tree in 0.0016 seconds.\n",
      "Added 113 numbers to tree in 0.0007 seconds.\n",
      "Added 143 numbers to tree in 0.0007 seconds.\n",
      "Added 179 numbers to tree in 0.0015 seconds.\n",
      "Added 227 numbers to tree in 0.0024 seconds.\n",
      "Added 287 numbers to tree in 0.0023 seconds.\n",
      "Added 366 numbers to tree in 0.0035 seconds.\n",
      "Added 460 numbers to tree in 0.0024 seconds.\n",
      "Added 578 numbers to tree in 0.0106 seconds.\n",
      "Added 732 numbers to tree in 0.0039 seconds.\n"
     ]
    }
   ],
   "source": [
    "leaves_analysis(20, 30)"
   ]
  },
  {
   "cell_type": "code",
   "execution_count": null,
   "metadata": {},
   "outputs": [],
   "source": []
  }
 ],
 "metadata": {
  "kernelspec": {
   "display_name": "SageMath 8.7",
   "language": "",
   "name": "sagemath"
  },
  "language_info": {
   "codemirror_mode": {
    "name": "ipython",
    "version": 2
   },
   "file_extension": ".py",
   "mimetype": "text/x-python",
   "name": "python",
   "nbconvert_exporter": "python",
   "pygments_lexer": "ipython2",
   "version": "2.7.15"
  }
 },
 "nbformat": 4,
 "nbformat_minor": 2
}
