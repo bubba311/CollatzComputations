{
 "cells": [
  {
   "cell_type": "code",
   "execution_count": 1,
   "metadata": {},
   "outputs": [],
   "source": [
    "import math\n",
    "import time"
   ]
  },
  {
   "cell_type": "code",
   "execution_count": 56,
   "metadata": {},
   "outputs": [],
   "source": [
    "# Compute log base two of a given input\n",
    "def Log2(x): \n",
    "    if x == 0: \n",
    "        return false \n",
    "    return (math.log10(x) / math.log10(2))\n",
    "\n",
    "# Run the collatz algorithm on a given number\n",
    "# Return the power of 2 that the chain terminates on\n",
    "def Collatz(n):\n",
    "    if math.ceil(Log2(n)) == math.floor(Log2(n)): # n is a power of 2\n",
    "        return int(Log2(n))\n",
    "    if n % 2 == 0: # even\n",
    "        return Collatz(n/2)\n",
    "    else: # odd\n",
    "        return Collatz(3*n+1)\n",
    "\n",
    "# return array of collatz algorithm run on points [xi,xf] in \\ZZ\n",
    "def generate_points(xi, xf):\n",
    "    # Start time\n",
    "    start_time = time.time()\n",
    "    \n",
    "    # Run Collatz algorithm on points\n",
    "    points = [(n,Collatz(n)) for n in range(xi,xf+1)]\n",
    "    dt = time.time() - start_time # total run time in secs\n",
    "    \n",
    "    # Print run time data\n",
    "    hours = math.floor(dt/3600)\n",
    "    minutes = math.floor((dt-(hours*3600))/60)\n",
    "    secs = round(dt-(3600*hours)-(60*minutes), 3)\n",
    "    print(\"Computed \"+str(xf-xi+1)+\" points in \"+str(hours)+\"hr \"+str(minutes)+\"min \"+str(secs)+\"sec\")\n",
    "    \n",
    "    return points\n",
    "\n",
    "# Write array of points to file\n",
    "def write_to_file(points, append=False):\n",
    "    start_time = time.time() # to keep track of run time\n",
    "    num_points = len(points)\n",
    "    \n",
    "    if append == True:\n",
    "        f = open(\"pow2collatz_data/complete_dataset.txt\", \"a\") # open file\n",
    "        for (n, pow2n) in points: # write data to full dataset\n",
    "            f.write(str(n)+\" \"+str(pow2n)+\"\\n\") \n",
    "        print(\"Appended \"+str(num_points)+\" points to complete dataset in \"+str(round(time.time()-start_time, 3))+ \"seconds\")\n",
    "        f.close() # close file\n",
    "    else:\n",
    "        f = open(\"pow2collatz_data/\"+str(points[0][0])+\"--\"+str(points[num_points-1][0])+\"_dataset.txt\", \"w+\") # open file\n",
    "        for (n, pow2n) in points: # write data to new dataset\n",
    "            f.write(str(n)+\" \"+str(pow2n)+\"\\n\") \n",
    "        print(\"Wrote \"+str(num_points)+\" points in dataset in \"+str(round(time.time()-start_time, 3))+\" seconds\")\n",
    "        f.close() #close file"
   ]
  },
  {
   "cell_type": "code",
   "execution_count": 100,
   "metadata": {},
   "outputs": [],
   "source": [
    "# Check density of pow_of_2 in dataset 'points' \n",
    "def check_abundance(points, pow_of_2):\n",
    "    num = 0 # keep track of the number of times pow_of_2 appears\n",
    "    length = len(points)\n",
    "    \n",
    "    for (n, q) in points:\n",
    "        if q == pow_of_2:\n",
    "            num += 1\n",
    "    \n",
    "    print(\"There were \"+str(num)+\" occurances of \"+str(pow_of_2)+\" out of \"+str(length)+\" points tested--\")\n",
    "    print(\"accounting for \"+str(round(100*num/length,3))+\"% of these points\")\n",
    "\n",
    "# Print the collatz branch for a particular number\n",
    "def print_collatz_branch(n, steps=-1):\n",
    "    steps += 1\n",
    "    # collatz algorithm\n",
    "    if n == 1: # n is 1, algorithm terminates\n",
    "        print(\" 1\"), # Print input\n",
    "        print(\"\\n\"+str(steps)+\" steps\")\n",
    "        return\n",
    "    if n % 2 == 0: # even\n",
    "        print(str(n)+\" -->\"), # Print input\n",
    "        print_collatz_branch(n/2,steps=steps)\n",
    "    else: # odd\n",
    "        print(str(n)+\" -->\"), # Print input\n",
    "        print_collatz_branch(3*n+1,steps=steps)"
   ]
  },
  {
   "cell_type": "code",
   "execution_count": 25,
   "metadata": {},
   "outputs": [
    {
     "name": "stdout",
     "output_type": "stream",
     "text": [
      "2 ^ 2 - 1 : 3\n",
      "2 ^ 3 - 1 : 7\n",
      "2 ^ 4 - 1 : 3 * 5\n",
      "2 ^ 5 - 1 : 31\n",
      "2 ^ 6 - 1 : 3^2 * 7\n",
      "2 ^ 7 - 1 : 127\n",
      "2 ^ 8 - 1 : 3 * 5 * 17\n",
      "2 ^ 9 - 1 : 7 * 73\n",
      "2 ^ 10 - 1 : 3 * 11 * 31\n",
      "2 ^ 11 - 1 : 23 * 89\n",
      "2 ^ 12 - 1 : 3^2 * 5 * 7 * 13\n",
      "2 ^ 13 - 1 : 8191\n",
      "2 ^ 14 - 1 : 3 * 43 * 127\n",
      "2 ^ 15 - 1 : 7 * 31 * 151\n",
      "2 ^ 16 - 1 : 3 * 5 * 17 * 257\n",
      "2 ^ 17 - 1 : 131071\n",
      "2 ^ 18 - 1 : 3^3 * 7 * 19 * 73\n",
      "2 ^ 19 - 1 : 524287\n",
      "2 ^ 20 - 1 : 3 * 5^2 * 11 * 31 * 41\n",
      "2 ^ 21 - 1 : 7^2 * 127 * 337\n",
      "2 ^ 22 - 1 : 3 * 23 * 89 * 683\n",
      "2 ^ 23 - 1 : 47 * 178481\n",
      "2 ^ 24 - 1 : 3^2 * 5 * 7 * 13 * 17 * 241\n",
      "2 ^ 25 - 1 : 31 * 601 * 1801\n",
      "2 ^ 26 - 1 : 3 * 2731 * 8191\n",
      "2 ^ 27 - 1 : 7 * 73 * 262657\n",
      "2 ^ 28 - 1 : 3 * 5 * 29 * 43 * 113 * 127\n",
      "2 ^ 29 - 1 : 233 * 1103 * 2089\n",
      "2 ^ 30 - 1 : 3^2 * 7 * 11 * 31 * 151 * 331\n",
      "2 ^ 31 - 1 : 2147483647\n",
      "2 ^ 32 - 1 : 3 * 5 * 17 * 257 * 65537\n",
      "2 ^ 33 - 1 : 7 * 23 * 89 * 599479\n",
      "2 ^ 34 - 1 : 3 * 43691 * 131071\n",
      "2 ^ 35 - 1 : 31 * 71 * 127 * 122921\n",
      "2 ^ 36 - 1 : 3^3 * 5 * 7 * 13 * 19 * 37 * 73 * 109\n",
      "2 ^ 37 - 1 : 223 * 616318177\n",
      "2 ^ 38 - 1 : 3 * 174763 * 524287\n",
      "2 ^ 39 - 1 : 7 * 79 * 8191 * 121369\n",
      "2 ^ 40 - 1 : 3 * 5^2 * 11 * 17 * 31 * 41 * 61681\n",
      "2 ^ 41 - 1 : 13367 * 164511353\n",
      "2 ^ 42 - 1 : 3^2 * 7^2 * 43 * 127 * 337 * 5419\n",
      "2 ^ 43 - 1 : 431 * 9719 * 2099863\n",
      "2 ^ 44 - 1 : 3 * 5 * 23 * 89 * 397 * 683 * 2113\n",
      "2 ^ 45 - 1 : 7 * 31 * 73 * 151 * 631 * 23311\n",
      "2 ^ 46 - 1 : 3 * 47 * 178481 * 2796203\n",
      "2 ^ 47 - 1 : 2351 * 4513 * 13264529\n",
      "2 ^ 48 - 1 : 3^2 * 5 * 7 * 13 * 17 * 97 * 241 * 257 * 673\n",
      "2 ^ 49 - 1 : 127 * 4432676798593\n",
      "2 ^ 50 - 1 : 3 * 11 * 31 * 251 * 601 * 1801 * 4051\n",
      "2 ^ 51 - 1 : 7 * 103 * 2143 * 11119 * 131071\n",
      "2 ^ 52 - 1 : 3 * 5 * 53 * 157 * 1613 * 2731 * 8191\n",
      "2 ^ 53 - 1 : 6361 * 69431 * 20394401\n",
      "2 ^ 54 - 1 : 3^4 * 7 * 19 * 73 * 87211 * 262657\n",
      "2 ^ 55 - 1 : 23 * 31 * 89 * 881 * 3191 * 201961\n",
      "2 ^ 56 - 1 : 3 * 5 * 17 * 29 * 43 * 113 * 127 * 15790321\n",
      "2 ^ 57 - 1 : 7 * 32377 * 524287 * 1212847\n",
      "2 ^ 58 - 1 : 3 * 59 * 233 * 1103 * 2089 * 3033169\n",
      "2 ^ 59 - 1 : 179951 * 3203431780337\n",
      "2 ^ 60 - 1 : 3^2 * 5^2 * 7 * 11 * 13 * 31 * 41 * 61 * 151 * 331 * 1321\n",
      "2 ^ 61 - 1 : 2305843009213693951\n",
      "2 ^ 62 - 1 : 3 * 715827883 * 2147483647\n",
      "2 ^ 63 - 1 : 7^2 * 73 * 127 * 337 * 92737 * 649657\n",
      "2 ^ 64 - 1 : 3 * 5 * 17 * 257 * 641 * 65537 * 6700417\n",
      "2 ^ 65 - 1 : 31 * 8191 * 145295143558111\n",
      "2 ^ 66 - 1 : 3^2 * 7 * 23 * 67 * 89 * 683 * 20857 * 599479\n",
      "2 ^ 67 - 1 : 193707721 * 761838257287\n",
      "2 ^ 68 - 1 : 3 * 5 * 137 * 953 * 26317 * 43691 * 131071\n",
      "2 ^ 69 - 1 : 7 * 47 * 178481 * 10052678938039\n",
      "2 ^ 70 - 1 : 3 * 11 * 31 * 43 * 71 * 127 * 281 * 86171 * 122921\n",
      "2 ^ 71 - 1 : 228479 * 48544121 * 212885833\n",
      "2 ^ 72 - 1 : 3^3 * 5 * 7 * 13 * 17 * 19 * 37 * 73 * 109 * 241 * 433 * 38737\n",
      "2 ^ 73 - 1 : 439 * 2298041 * 9361973132609\n",
      "2 ^ 74 - 1 : 3 * 223 * 1777 * 25781083 * 616318177\n",
      "2 ^ 75 - 1 : 7 * 31 * 151 * 601 * 1801 * 100801 * 10567201\n",
      "2 ^ 76 - 1 : 3 * 5 * 229 * 457 * 174763 * 524287 * 525313\n",
      "2 ^ 77 - 1 : 23 * 89 * 127 * 581283643249112959\n",
      "2 ^ 78 - 1 : 3^2 * 7 * 79 * 2731 * 8191 * 121369 * 22366891\n",
      "2 ^ 79 - 1 : 2687 * 202029703 * 1113491139767\n",
      "2 ^ 80 - 1 : 3 * 5^2 * 11 * 17 * 31 * 41 * 257 * 61681 * 4278255361\n",
      "2 ^ 81 - 1 : 7 * 73 * 2593 * 71119 * 262657 * 97685839\n",
      "2 ^ 82 - 1 : 3 * 83 * 13367 * 164511353 * 8831418697\n",
      "2 ^ 83 - 1 : 167 * 57912614113275649087721\n",
      "2 ^ 84 - 1 : 3^2 * 5 * 7^2 * 13 * 29 * 43 * 113 * 127 * 337 * 1429 * 5419 * 14449\n",
      "2 ^ 85 - 1 : 31 * 131071 * 9520972806333758431\n",
      "2 ^ 86 - 1 : 3 * 431 * 9719 * 2099863 * 2932031007403\n",
      "2 ^ 87 - 1 : 7 * 233 * 1103 * 2089 * 4177 * 9857737155463\n",
      "2 ^ 88 - 1 : 3 * 5 * 17 * 23 * 89 * 353 * 397 * 683 * 2113 * 2931542417\n",
      "2 ^ 89 - 1 : 618970019642690137449562111\n",
      "2 ^ 90 - 1 : 3^3 * 7 * 11 * 19 * 31 * 73 * 151 * 331 * 631 * 23311 * 18837001\n",
      "2 ^ 91 - 1 : 127 * 911 * 8191 * 112901153 * 23140471537\n",
      "2 ^ 92 - 1 : 3 * 5 * 47 * 277 * 1013 * 1657 * 30269 * 178481 * 2796203\n",
      "2 ^ 93 - 1 : 7 * 2147483647 * 658812288653553079\n",
      "2 ^ 94 - 1 : 3 * 283 * 2351 * 4513 * 13264529 * 165768537521\n",
      "2 ^ 95 - 1 : 31 * 191 * 524287 * 420778751 * 30327152671\n",
      "2 ^ 96 - 1 : 3^2 * 5 * 7 * 13 * 17 * 97 * 193 * 241 * 257 * 673 * 65537 * 22253377\n",
      "2 ^ 97 - 1 : 11447 * 13842607235828485645766393\n",
      "2 ^ 98 - 1 : 3 * 43 * 127 * 4363953127297 * 4432676798593\n",
      "2 ^ 99 - 1 : 7 * 23 * 73 * 89 * 199 * 153649 * 599479 * 33057806959\n",
      "2 ^ 100 - 1 : 3 * 5^3 * 11 * 31 * 41 * 101 * 251 * 601 * 1801 * 4051 * 8101 * 268501\n",
      "2 ^ 101 - 1 : 7432339208719 * 341117531003194129\n",
      "2 ^ 102 - 1 : 3^2 * 7 * 103 * 307 * 2143 * 2857 * 6529 * 11119 * 43691 * 131071\n",
      "2 ^ 103 - 1 : 2550183799 * 3976656429941438590393\n",
      "2 ^ 104 - 1 : 3 * 5 * 17 * 53 * 157 * 1613 * 2731 * 8191 * 858001 * 308761441\n",
      "2 ^ 105 - 1 : 7^2 * 31 * 71 * 127 * 151 * 337 * 29191 * 106681 * 122921 * 152041\n",
      "2 ^ 106 - 1 : 3 * 107 * 6361 * 69431 * 20394401 * 28059810762433\n",
      "2 ^ 107 - 1 : 162259276829213363391578010288127\n",
      "2 ^ 108 - 1 : 3^4 * 5 * 7 * 13 * 19 * 37 * 73 * 109 * 87211 * 246241 * 262657 * 279073\n"
     ]
    }
   ],
   "source": [
    "for x in range(2,109):\n",
    "    print \"2 ^\",x,\"- 1 :\",factor(2^x-1)"
   ]
  },
  {
   "cell_type": "code",
   "execution_count": 63,
   "metadata": {},
   "outputs": [
    {
     "name": "stdout",
     "output_type": "stream",
     "text": [
      "Computed 1000000 points in 0.0hr 6.0min 26.371sec\n",
      "Appended 1000000 points to complete dataset in 0.622seconds\n"
     ]
    }
   ],
   "source": [
    "mil_range = generate_points(1,10**6)\n",
    "write_to_file(mil_range, append=True)"
   ]
  },
  {
   "cell_type": "code",
   "execution_count": 64,
   "metadata": {},
   "outputs": [
    {
     "name": "stdout",
     "output_type": "stream",
     "text": [
      "Computed 1000000 points in 0.0hr 7.0min 0.341sec\n",
      "Appended 1000000 points to complete dataset in 0.532seconds\n"
     ]
    }
   ],
   "source": [
    "one_to_two_mil_range = generate_points(10**6+1,2*10**6)\n",
    "write_to_file(one_to_two_mil_range, append=True)"
   ]
  },
  {
   "cell_type": "code",
   "execution_count": 65,
   "metadata": {},
   "outputs": [
    {
     "data": {
      "image/png": "[encoded data removed]",
      "text/plain": [
       "Graphics object consisting of 1 graphics primitive"
      ]
     },
     "execution_count": 65,
     "metadata": {},
     "output_type": "execute_result"
    }
   ],
   "source": [
    "list_plot(mil_range,color='red', pointsize=10)\n",
    "list_plot(one_to_two_mil_range,color='red', pointsize=10)"
   ]
  },
  {
   "cell_type": "code",
   "execution_count": 75,
   "metadata": {},
   "outputs": [
    {
     "name": "stdout",
     "output_type": "stream",
     "text": [
      "There were 937712 occurances of 4 out of 1000000 points tested--\n",
      "accounting for 93.771% of these points\n",
      "There were 938003 occurances of 4 out of 1000000 points tested--\n",
      "accounting for 93.8% of these points\n",
      "There were 937957 occurances of 4 out of 1000000 points tested--\n",
      "accounting for 93.796% of these points\n",
      "There were 6565406 occurances of 4 out of 7000000 points tested--\n",
      "accounting for 93.792% of these points\n"
     ]
    }
   ],
   "source": [
    "check_abundance(mil_range,4)\n",
    "check_abundance(one_to_two_mil_range,4)\n",
    "check_abundance(two_to_three_mil_range,4)\n",
    "check_abundance(three_to_ten_mil_range,4)"
   ]
  },
  {
   "cell_type": "code",
   "execution_count": 72,
   "metadata": {},
   "outputs": [
    {
     "name": "stdout",
     "output_type": "stream",
     "text": [
      "Computed 1000000 points in 0.0hr 6.0min 57.841sec\n",
      "Appended 1000000 points to complete dataset in 0.519seconds\n"
     ]
    }
   ],
   "source": [
    "two_to_three_mil_range = generate_points(2*10**6+1,3*10**6)\n",
    "write_to_file(two_to_three_mil_range, append=True)"
   ]
  },
  {
   "cell_type": "code",
   "execution_count": 74,
   "metadata": {},
   "outputs": [
    {
     "name": "stdout",
     "output_type": "stream",
     "text": [
      "Computed 7000000 points in 0.0hr 54.0min 46.823sec\n",
      "Appended 7000000 points to complete dataset in 3.711seconds\n"
     ]
    }
   ],
   "source": [
    "three_to_ten_mil_range = generate_points(3*10**6+1,10**7)\n",
    "write_to_file(three_to_ten_mil_range, append=True)"
   ]
  },
  {
   "cell_type": "code",
   "execution_count": 76,
   "metadata": {},
   "outputs": [
    {
     "name": "stdout",
     "output_type": "stream",
     "text": [
      "Computed 5000000 points in 0.0hr 38.0min 46.054sec\n",
      "Appended 5000000 points to complete dataset in 2.522seconds\n"
     ]
    }
   ],
   "source": [
    "ten_to_15_mil_range = generate_points(10**7+1, 15*10**6)\n",
    "write_to_file(ten_to_15_mil_range, append=True)"
   ]
  },
  {
   "cell_type": "code",
   "execution_count": 77,
   "metadata": {},
   "outputs": [
    {
     "name": "stdout",
     "output_type": "stream",
     "text": [
      "There were 37912 occurances of 10 out of 1000000 points tested--\n",
      "accounting for 3.791% of these points\n",
      "There were 37686 occurances of 10 out of 1000000 points tested--\n",
      "accounting for 3.769% of these points\n",
      "There were 37714 occurances of 10 out of 1000000 points tested--\n",
      "accounting for 3.771% of these points\n",
      "There were 263991 occurances of 10 out of 7000000 points tested--\n",
      "accounting for 3.771% of these points\n"
     ]
    }
   ],
   "source": [
    "check_abundance(mil_range,10)\n",
    "check_abundance(one_to_two_mil_range,10)\n",
    "check_abundance(two_to_three_mil_range,10)\n",
    "check_abundance(three_to_ten_mil_range,10)"
   ]
  },
  {
   "cell_type": "code",
   "execution_count": 78,
   "metadata": {},
   "outputs": [
    {
     "name": "stdout",
     "output_type": "stream",
     "text": [
      "There were 23738 occurances of 8 out of 1000000 points tested--\n",
      "accounting for 2.374% of these points\n",
      "There were 23743 occurances of 8 out of 1000000 points tested--\n",
      "accounting for 2.374% of these points\n",
      "There were 23757 occurances of 8 out of 1000000 points tested--\n",
      "accounting for 2.376% of these points\n",
      "There were 166405 occurances of 8 out of 7000000 points tested--\n",
      "accounting for 2.377% of these points\n"
     ]
    }
   ],
   "source": [
    "check_abundance(mil_range,8)\n",
    "check_abundance(one_to_two_mil_range,8)\n",
    "check_abundance(two_to_three_mil_range,8)\n",
    "check_abundance(three_to_ten_mil_range,8)"
   ]
  },
  {
   "cell_type": "code",
   "execution_count": 113,
   "metadata": {},
   "outputs": [
    {
     "name": "stdout",
     "output_type": "stream",
     "text": [
      "12 --> 6 --> 3 --> 10 --> 5 --> 16 --> 8 --> 4 --> 2 -->  --> 1 \n",
      "9 steps\n",
      "144 --> 72 --> 36 --> 18 --> 9 --> 28 --> 14 --> 7 --> 22 --> 11 --> 34 --> 17 --> 52 --> 26 --> 13 --> 40 --> 20 --> 10 --> 5 --> 16 --> 8 --> 4 --> 2 -->  --> 1 \n",
      "23 steps\n",
      "1728 --> 864 --> 432 --> 216 --> 108 --> 54 --> 27 --> 82 --> 41 --> 124 --> 62 --> 31 --> 94 --> 47 --> 142 --> 71 --> 214 --> 107 --> 322 --> 161 --> 484 --> 242 --> 121 --> 364 --> 182 --> 91 --> 274 --> 137 --> 412 --> 206 --> 103 --> 310 --> 155 --> 466 --> 233 --> 700 --> 350 --> 175 --> 526 --> 263 --> 790 --> 395 --> 1186 --> 593 --> 1780 --> 890 --> 445 --> 1336 --> 668 --> 334 --> 167 --> 502 --> 251 --> 754 --> 377 --> 1132 --> 566 --> 283 --> 850 --> 425 --> 1276 --> 638 --> 319 --> 958 --> 479 --> 1438 --> 719 --> 2158 --> 1079 --> 3238 --> 1619 --> 4858 --> 2429 --> 7288 --> 3644 --> 1822 --> 911 --> 2734 --> 1367 --> 4102 --> 2051 --> 6154 --> 3077 --> 9232 --> 4616 --> 2308 --> 1154 --> 577 --> 1732 --> 866 --> 433 --> 1300 --> 650 --> 325 --> 976 --> 488 --> 244 --> 122 --> 61 --> 184 --> 92 --> 46 --> 23 --> 70 --> 35 --> 106 --> 53 --> 160 --> 80 --> 40 --> 20 --> 10 --> 5 --> 16 --> 8 --> 4 --> 2 -->  --> 1 \n",
      "117 steps\n",
      "20736 --> 10368 --> 5184 --> 2592 --> 1296 --> 648 --> 324 --> 162 --> 81 --> 244 --> 122 --> 61 --> 184 --> 92 --> 46 --> 23 --> 70 --> 35 --> 106 --> 53 --> 160 --> 80 --> 40 --> 20 --> 10 --> 5 --> 16 --> 8 --> 4 --> 2 -->  --> 1 \n",
      "30 steps\n",
      "248832 --> 124416 --> 62208 --> 31104 --> 15552 --> 7776 --> 3888 --> 1944 --> 972 --> 486 --> 243 --> 730 --> 365 --> 1096 --> 548 --> 274 --> 137 --> 412 --> 206 --> 103 --> 310 --> 155 --> 466 --> 233 --> 700 --> 350 --> 175 --> 526 --> 263 --> 790 --> 395 --> 1186 --> 593 --> 1780 --> 890 --> 445 --> 1336 --> 668 --> 334 --> 167 --> 502 --> 251 --> 754 --> 377 --> 1132 --> 566 --> 283 --> 850 --> 425 --> 1276 --> 638 --> 319 --> 958 --> 479 --> 1438 --> 719 --> 2158 --> 1079 --> 3238 --> 1619 --> 4858 --> 2429 --> 7288 --> 3644 --> 1822 --> 911 --> 2734 --> 1367 --> 4102 --> 2051 --> 6154 --> 3077 --> 9232 --> 4616 --> 2308 --> 1154 --> 577 --> 1732 --> 866 --> 433 --> 1300 --> 650 --> 325 --> 976 --> 488 --> 244 --> 122 --> 61 --> 184 --> 92 --> 46 --> 23 --> 70 --> 35 --> 106 --> 53 --> 160 --> 80 --> 40 --> 20 --> 10 --> 5 --> 16 --> 8 --> 4 --> 2 -->  --> 1 \n",
      "106 steps\n",
      "2985984 --> 1492992 --> 746496 --> 373248 --> 186624 --> 93312 --> 46656 --> 23328 --> 11664 --> 5832 --> 2916 --> 1458 --> 729 --> 2188 --> 1094 --> 547 --> 1642 --> 821 --> 2464 --> 1232 --> 616 --> 308 --> 154 --> 77 --> 232 --> 116 --> 58 --> 29 --> 88 --> 44 --> 22 --> 11 --> 34 --> 17 --> 52 --> 26 --> 13 --> 40 --> 20 --> 10 --> 5 --> 16 --> 8 --> 4 --> 2 -->  --> 1 \n",
      "45 steps\n",
      "35831808 --> 17915904 --> 8957952 --> 4478976 --> 2239488 --> 1119744 --> 559872 --> 279936 --> 139968 --> 69984 --> 34992 --> 17496 --> 8748 --> 4374 --> 2187 --> 6562 --> 3281 --> 9844 --> 4922 --> 2461 --> 7384 --> 3692 --> 1846 --> 923 --> 2770 --> 1385 --> 4156 --> 2078 --> 1039 --> 3118 --> 1559 --> 4678 --> 2339 --> 7018 --> 3509 --> 10528 --> 5264 --> 2632 --> 1316 --> 658 --> 329 --> 988 --> 494 --> 247 --> 742 --> 371 --> 1114 --> 557 --> 1672 --> 836 --> 418 --> 209 --> 628 --> 314 --> 157 --> 472 --> 236 --> 118 --> 59 --> 178 --> 89 --> 268 --> 134 --> 67 --> 202 --> 101 --> 304 --> 152 --> 76 --> 38 --> 19 --> 58 --> 29 --> 88 --> 44 --> 22 --> 11 --> 34 --> 17 --> 52 --> 26 --> 13 --> 40 --> 20 --> 10 --> 5 --> 16 --> 8 --> 4 --> 2 -->  --> 1 \n",
      "90 steps\n",
      "429981696 --> 214990848 --> 107495424 --> 53747712 --> 26873856 --> 13436928 --> 6718464 --> 3359232 --> 1679616 --> 839808 --> 419904 --> 209952 --> 104976 --> 52488 --> 26244 --> 13122 --> 6561 --> 19684 --> 9842 --> 4921 --> 14764 --> 7382 --> 3691 --> 11074 --> 5537 --> 16612 --> 8306 --> 4153 --> 12460 --> 6230 --> 3115 --> 9346 --> 4673 --> 14020 --> 7010 --> 3505 --> 10516 --> 5258 --> 2629 --> 7888 --> 3944 --> 1972 --> 986 --> 493 --> 1480 --> 740 --> 370 --> 185 --> 556 --> 278 --> 139 --> 418 --> 209 --> 628 --> 314 --> 157 --> 472 --> 236 --> 118 --> 59 --> 178 --> 89 --> 268 --> 134 --> 67 --> 202 --> 101 --> 304 --> 152 --> 76 --> 38 --> 19 --> 58 --> 29 --> 88 --> 44 --> 22 --> 11 --> 34 --> 17 --> 52 --> 26 --> 13 --> 40 --> 20 --> 10 --> 5 --> 16 --> 8 --> 4 --> 2 -->  --> 1 \n",
      "91 steps\n",
      "5159780352 --> 2579890176 --> 1289945088 --> 644972544 --> 322486272 --> 161243136 --> 80621568 --> 40310784 --> 20155392 --> 10077696 --> 5038848 --> 2519424 --> 1259712 --> 629856 --> 314928 --> 157464 --> 78732 --> 39366 --> 19683 --> 59050 --> 29525 --> 88576 --> 44288 --> 22144 --> 11072 --> 5536 --> 2768 --> 1384 --> 692 --> 346 --> 173 --> 520 --> 260 --> 130 --> 65 --> 196 --> 98 --> 49 --> 148 --> 74 --> 37 --> 112 --> 56 --> 28 --> 14 --> 7 --> 22 --> 11 --> 34 --> 17 --> 52 --> 26 --> 13 --> 40 --> 20 --> 10 --> 5 --> 16 --> 8 --> 4 --> 2 -->  --> 1 \n",
      "61 steps\n",
      "61917364224 --> 30958682112 --> 15479341056 --> 7739670528 --> 3869835264 --> 1934917632 --> 967458816 --> 483729408 --> 241864704 --> 120932352 --> 60466176 --> 30233088 --> 15116544 --> 7558272 --> 3779136 --> 1889568 --> 944784 --> 472392 --> 236196 --> 118098 --> 59049 --> 177148 --> 88574 --> 44287 --> 132862 --> 66431 --> 199294 --> 99647 --> 298942 --> 149471 --> 448414 --> 224207 --> 672622 --> 336311 --> 1008934 --> 504467 --> 1513402 --> 756701 --> 2270104 --> 1135052 --> 567526 --> 283763 --> 851290 --> 425645 --> 1276936 --> 638468 --> 319234 --> 159617 --> 478852 --> 239426 --> 119713 --> 359140 --> 179570 --> 89785 --> 269356 --> 134678 --> 67339 --> 202018 --> 101009 --> 303028 --> 151514 --> 75757 --> 227272 --> 113636 --> 56818 --> 28409 --> 85228 --> 42614 --> 21307 --> 63922 --> 31961 --> 95884 --> 47942 --> 23971 --> 71914 --> 35957 --> 107872 --> 53936 --> 26968 --> 13484 --> 6742 --> 3371 --> 10114 --> 5057 --> 15172 --> 7586 --> 3793 --> 11380 --> 5690 --> 2845 --> 8536 --> 4268 --> 2134 --> 1067 --> 3202 --> 1601 --> 4804 --> 2402 --> 1201 --> 3604 --> 1802 --> 901 --> 2704 --> 1352 --> 676 --> 338 --> 169 --> 508 --> 254 --> 127 --> 382 --> 191 --> 574 --> 287 --> 862 --> 431 --> 1294 --> 647 --> 1942 --> 971 --> 2914 --> 1457 --> 4372 --> 2186 --> 1093 --> 3280 --> 1640 --> 820 --> 410 --> 205 --> 616 --> 308 --> 154 --> 77 --> 232 --> 116 --> 58 --> 29 --> 88 --> 44 --> 22 --> 11 --> 34 --> 17 --> 52 --> 26 --> 13 --> 40 --> 20 --> 10 --> 5 --> 16 --> 8 --> 4 --> 2 -->  --> 1 \n",
      "155 steps\n",
      "743008370688 --> 371504185344 --> 185752092672 --> 92876046336 --> 46438023168 --> 23219011584 --> 11609505792 --> 5804752896 --> 2902376448 --> 1451188224 --> 725594112 --> 362797056 --> 181398528 --> 90699264 --> 45349632 --> 22674816 --> 11337408 --> 5668704 --> 2834352 --> 1417176 --> 708588 --> 354294 --> 177147 --> 531442 --> 265721 --> 797164 --> 398582 --> 199291 --> 597874 --> 298937 --> 896812 --> 448406 --> 224203 --> 672610 --> 336305 --> 1008916 --> 504458 --> 252229 --> 756688 --> 378344 --> 189172 --> 94586 --> 47293 --> 141880 --> 70940 --> 35470 --> 17735 --> 53206 --> 26603 --> 79810 --> 39905 --> 119716 --> 59858 --> 29929 --> 89788 --> 44894 --> 22447 --> 67342 --> 33671 --> 101014 --> 50507 --> 151522 --> 75761 --> 227284 --> 113642 --> 56821 --> 170464 --> 85232 --> 42616 --> 21308 --> 10654 --> 5327 --> 15982 --> 7991 --> 23974 --> 11987 --> 35962 --> 17981 --> 53944 --> 26972 --> 13486 --> 6743 --> 20230 --> 10115 --> 30346 --> 15173 --> 45520 --> 22760 --> 11380 --> 5690 --> 2845 --> 8536 --> 4268 --> 2134 --> 1067 --> 3202 --> 1601 --> 4804 --> 2402 --> 1201 --> 3604 --> 1802 --> 901 --> 2704 --> 1352 --> 676 --> 338 --> 169 --> 508 --> 254 --> 127 --> 382 --> 191 --> 574 --> 287 --> 862 --> 431 --> 1294 --> 647 --> 1942 --> 971 --> 2914 --> 1457 --> 4372 --> 2186 --> 1093 --> 3280 --> 1640 --> 820 --> 410 --> 205 --> 616 --> 308 --> 154 --> 77 --> 232 --> 116 --> 58 --> 29 --> 88 --> 44 --> 22 --> 11 --> 34 --> 17 --> 52 --> 26 --> 13 --> 40 --> 20 --> 10 --> 5 --> 16 --> 8 --> 4 --> 2 -->  --> 1 \n",
      "156 steps\n"
     ]
    }
   ],
   "source": [
    "for n in range(1, 12):\n",
    "    print_collatz_branch(12**n)"
   ]
  },
  {
   "cell_type": "code",
   "execution_count": null,
   "metadata": {},
   "outputs": [],
   "source": []
  }
 ],
 "metadata": {
  "kernelspec": {
   "display_name": "SageMath 8.7",
   "language": "",
   "name": "sagemath"
  },
  "language_info": {
   "codemirror_mode": {
    "name": "ipython",
    "version": 2
   },
   "file_extension": ".py",
   "mimetype": "text/x-python",
   "name": "python",
   "nbconvert_exporter": "python",
   "pygments_lexer": "ipython2",
   "version": "2.7.15"
  }
 },
 "nbformat": 4,
 "nbformat_minor": 2
}
