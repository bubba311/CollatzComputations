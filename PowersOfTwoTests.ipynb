{
 "cells": [
  {
   "cell_type": "code",
   "execution_count": 1,
   "metadata": {},
   "outputs": [],
   "source": [
    "import math\n",
    "#from sage.plot.point import Point"
   ]
  },
  {
   "cell_type": "code",
   "execution_count": 2,
   "metadata": {},
   "outputs": [],
   "source": [
    "def Log2(x): \n",
    "    if x == 0: \n",
    "        return false \n",
    "    return (math.log10(x) / math.log10(2))\n",
    "\n",
    "def Collatz(n):\n",
    "    if math.ceil(Log2(n)) == math.floor(Log2(n)):\n",
    "        return int(Log2(n))\n",
    "    if n % 2 == 0:\n",
    "        return Collatz(n/2)\n",
    "    else:\n",
    "        return Collatz(3*n+1)"
   ]
  },
  {
   "cell_type": "code",
   "execution_count": 26,
   "metadata": {},
   "outputs": [
    {
     "data": {
      "image/png": "[encoded data removed]",
      "text/plain": [
       "Graphics object consisting of 1 graphics primitive"
      ]
     },
     "execution_count": 26,
     "metadata": {},
     "output_type": "execute_result"
    }
   ],
   "source": [
    "Num = 10000000\n",
    "points = [(n,Collatz(n)) for n in range(1,Num)]\n",
    "list_plot(points,color='red', pointsize=10)"
   ]
  },
  {
   "cell_type": "code",
   "execution_count": 25,
   "metadata": {},
   "outputs": [
    {
     "name": "stdout",
     "output_type": "stream",
     "text": [
      "2 ^ 2 - 1 : 3\n",
      "2 ^ 3 - 1 : 7\n",
      "2 ^ 4 - 1 : 3 * 5\n",
      "2 ^ 5 - 1 : 31\n",
      "2 ^ 6 - 1 : 3^2 * 7\n",
      "2 ^ 7 - 1 : 127\n",
      "2 ^ 8 - 1 : 3 * 5 * 17\n",
      "2 ^ 9 - 1 : 7 * 73\n",
      "2 ^ 10 - 1 : 3 * 11 * 31\n",
      "2 ^ 11 - 1 : 23 * 89\n",
      "2 ^ 12 - 1 : 3^2 * 5 * 7 * 13\n",
      "2 ^ 13 - 1 : 8191\n",
      "2 ^ 14 - 1 : 3 * 43 * 127\n",
      "2 ^ 15 - 1 : 7 * 31 * 151\n",
      "2 ^ 16 - 1 : 3 * 5 * 17 * 257\n",
      "2 ^ 17 - 1 : 131071\n",
      "2 ^ 18 - 1 : 3^3 * 7 * 19 * 73\n",
      "2 ^ 19 - 1 : 524287\n",
      "2 ^ 20 - 1 : 3 * 5^2 * 11 * 31 * 41\n",
      "2 ^ 21 - 1 : 7^2 * 127 * 337\n",
      "2 ^ 22 - 1 : 3 * 23 * 89 * 683\n",
      "2 ^ 23 - 1 : 47 * 178481\n",
      "2 ^ 24 - 1 : 3^2 * 5 * 7 * 13 * 17 * 241\n",
      "2 ^ 25 - 1 : 31 * 601 * 1801\n",
      "2 ^ 26 - 1 : 3 * 2731 * 8191\n",
      "2 ^ 27 - 1 : 7 * 73 * 262657\n",
      "2 ^ 28 - 1 : 3 * 5 * 29 * 43 * 113 * 127\n",
      "2 ^ 29 - 1 : 233 * 1103 * 2089\n",
      "2 ^ 30 - 1 : 3^2 * 7 * 11 * 31 * 151 * 331\n",
      "2 ^ 31 - 1 : 2147483647\n",
      "2 ^ 32 - 1 : 3 * 5 * 17 * 257 * 65537\n",
      "2 ^ 33 - 1 : 7 * 23 * 89 * 599479\n",
      "2 ^ 34 - 1 : 3 * 43691 * 131071\n",
      "2 ^ 35 - 1 : 31 * 71 * 127 * 122921\n",
      "2 ^ 36 - 1 : 3^3 * 5 * 7 * 13 * 19 * 37 * 73 * 109\n",
      "2 ^ 37 - 1 : 223 * 616318177\n",
      "2 ^ 38 - 1 : 3 * 174763 * 524287\n",
      "2 ^ 39 - 1 : 7 * 79 * 8191 * 121369\n",
      "2 ^ 40 - 1 : 3 * 5^2 * 11 * 17 * 31 * 41 * 61681\n",
      "2 ^ 41 - 1 : 13367 * 164511353\n",
      "2 ^ 42 - 1 : 3^2 * 7^2 * 43 * 127 * 337 * 5419\n",
      "2 ^ 43 - 1 : 431 * 9719 * 2099863\n",
      "2 ^ 44 - 1 : 3 * 5 * 23 * 89 * 397 * 683 * 2113\n",
      "2 ^ 45 - 1 : 7 * 31 * 73 * 151 * 631 * 23311\n",
      "2 ^ 46 - 1 : 3 * 47 * 178481 * 2796203\n",
      "2 ^ 47 - 1 : 2351 * 4513 * 13264529\n",
      "2 ^ 48 - 1 : 3^2 * 5 * 7 * 13 * 17 * 97 * 241 * 257 * 673\n",
      "2 ^ 49 - 1 : 127 * 4432676798593\n",
      "2 ^ 50 - 1 : 3 * 11 * 31 * 251 * 601 * 1801 * 4051\n",
      "2 ^ 51 - 1 : 7 * 103 * 2143 * 11119 * 131071\n",
      "2 ^ 52 - 1 : 3 * 5 * 53 * 157 * 1613 * 2731 * 8191\n",
      "2 ^ 53 - 1 : 6361 * 69431 * 20394401\n",
      "2 ^ 54 - 1 : 3^4 * 7 * 19 * 73 * 87211 * 262657\n",
      "2 ^ 55 - 1 : 23 * 31 * 89 * 881 * 3191 * 201961\n",
      "2 ^ 56 - 1 : 3 * 5 * 17 * 29 * 43 * 113 * 127 * 15790321\n",
      "2 ^ 57 - 1 : 7 * 32377 * 524287 * 1212847\n",
      "2 ^ 58 - 1 : 3 * 59 * 233 * 1103 * 2089 * 3033169\n",
      "2 ^ 59 - 1 : 179951 * 3203431780337\n",
      "2 ^ 60 - 1 : 3^2 * 5^2 * 7 * 11 * 13 * 31 * 41 * 61 * 151 * 331 * 1321\n",
      "2 ^ 61 - 1 : 2305843009213693951\n",
      "2 ^ 62 - 1 : 3 * 715827883 * 2147483647\n",
      "2 ^ 63 - 1 : 7^2 * 73 * 127 * 337 * 92737 * 649657\n",
      "2 ^ 64 - 1 : 3 * 5 * 17 * 257 * 641 * 65537 * 6700417\n",
      "2 ^ 65 - 1 : 31 * 8191 * 145295143558111\n",
      "2 ^ 66 - 1 : 3^2 * 7 * 23 * 67 * 89 * 683 * 20857 * 599479\n",
      "2 ^ 67 - 1 : 193707721 * 761838257287\n",
      "2 ^ 68 - 1 : 3 * 5 * 137 * 953 * 26317 * 43691 * 131071\n",
      "2 ^ 69 - 1 : 7 * 47 * 178481 * 10052678938039\n",
      "2 ^ 70 - 1 : 3 * 11 * 31 * 43 * 71 * 127 * 281 * 86171 * 122921\n",
      "2 ^ 71 - 1 : 228479 * 48544121 * 212885833\n",
      "2 ^ 72 - 1 : 3^3 * 5 * 7 * 13 * 17 * 19 * 37 * 73 * 109 * 241 * 433 * 38737\n",
      "2 ^ 73 - 1 : 439 * 2298041 * 9361973132609\n",
      "2 ^ 74 - 1 : 3 * 223 * 1777 * 25781083 * 616318177\n",
      "2 ^ 75 - 1 : 7 * 31 * 151 * 601 * 1801 * 100801 * 10567201\n",
      "2 ^ 76 - 1 : 3 * 5 * 229 * 457 * 174763 * 524287 * 525313\n",
      "2 ^ 77 - 1 : 23 * 89 * 127 * 581283643249112959\n",
      "2 ^ 78 - 1 : 3^2 * 7 * 79 * 2731 * 8191 * 121369 * 22366891\n",
      "2 ^ 79 - 1 : 2687 * 202029703 * 1113491139767\n",
      "2 ^ 80 - 1 : 3 * 5^2 * 11 * 17 * 31 * 41 * 257 * 61681 * 4278255361\n",
      "2 ^ 81 - 1 : 7 * 73 * 2593 * 71119 * 262657 * 97685839\n",
      "2 ^ 82 - 1 : 3 * 83 * 13367 * 164511353 * 8831418697\n",
      "2 ^ 83 - 1 : 167 * 57912614113275649087721\n",
      "2 ^ 84 - 1 : 3^2 * 5 * 7^2 * 13 * 29 * 43 * 113 * 127 * 337 * 1429 * 5419 * 14449\n",
      "2 ^ 85 - 1 : 31 * 131071 * 9520972806333758431\n",
      "2 ^ 86 - 1 : 3 * 431 * 9719 * 2099863 * 2932031007403\n",
      "2 ^ 87 - 1 : 7 * 233 * 1103 * 2089 * 4177 * 9857737155463\n",
      "2 ^ 88 - 1 : 3 * 5 * 17 * 23 * 89 * 353 * 397 * 683 * 2113 * 2931542417\n",
      "2 ^ 89 - 1 : 618970019642690137449562111\n",
      "2 ^ 90 - 1 : 3^3 * 7 * 11 * 19 * 31 * 73 * 151 * 331 * 631 * 23311 * 18837001\n",
      "2 ^ 91 - 1 : 127 * 911 * 8191 * 112901153 * 23140471537\n",
      "2 ^ 92 - 1 : 3 * 5 * 47 * 277 * 1013 * 1657 * 30269 * 178481 * 2796203\n",
      "2 ^ 93 - 1 : 7 * 2147483647 * 658812288653553079\n",
      "2 ^ 94 - 1 : 3 * 283 * 2351 * 4513 * 13264529 * 165768537521\n",
      "2 ^ 95 - 1 : 31 * 191 * 524287 * 420778751 * 30327152671\n",
      "2 ^ 96 - 1 : 3^2 * 5 * 7 * 13 * 17 * 97 * 193 * 241 * 257 * 673 * 65537 * 22253377\n",
      "2 ^ 97 - 1 : 11447 * 13842607235828485645766393\n",
      "2 ^ 98 - 1 : 3 * 43 * 127 * 4363953127297 * 4432676798593\n",
      "2 ^ 99 - 1 : 7 * 23 * 73 * 89 * 199 * 153649 * 599479 * 33057806959\n",
      "2 ^ 100 - 1 : 3 * 5^3 * 11 * 31 * 41 * 101 * 251 * 601 * 1801 * 4051 * 8101 * 268501\n",
      "2 ^ 101 - 1 : 7432339208719 * 341117531003194129\n",
      "2 ^ 102 - 1 : 3^2 * 7 * 103 * 307 * 2143 * 2857 * 6529 * 11119 * 43691 * 131071\n",
      "2 ^ 103 - 1 : 2550183799 * 3976656429941438590393\n",
      "2 ^ 104 - 1 : 3 * 5 * 17 * 53 * 157 * 1613 * 2731 * 8191 * 858001 * 308761441\n",
      "2 ^ 105 - 1 : 7^2 * 31 * 71 * 127 * 151 * 337 * 29191 * 106681 * 122921 * 152041\n",
      "2 ^ 106 - 1 : 3 * 107 * 6361 * 69431 * 20394401 * 28059810762433\n",
      "2 ^ 107 - 1 : 162259276829213363391578010288127\n",
      "2 ^ 108 - 1 : 3^4 * 5 * 7 * 13 * 19 * 37 * 73 * 109 * 87211 * 246241 * 262657 * 279073\n"
     ]
    }
   ],
   "source": [
    "for x in range(2,109):\n",
    "    print \"2 ^\",x,\"- 1 :\",factor(2^x-1)"
   ]
  },
  {
   "cell_type": "code",
   "execution_count": null,
   "metadata": {},
   "outputs": [],
   "source": []
  }
 ],
 "metadata": {
  "kernelspec": {
   "display_name": "SageMath 8.7",
   "language": "",
   "name": "sagemath"
  },
  "language_info": {
   "codemirror_mode": {
    "name": "ipython",
    "version": 2
   },
   "file_extension": ".py",
   "mimetype": "text/x-python",
   "name": "python",
   "nbconvert_exporter": "python",
   "pygments_lexer": "ipython2",
   "version": "2.7.15"
  }
 },
 "nbformat": 4,
 "nbformat_minor": 2
}
